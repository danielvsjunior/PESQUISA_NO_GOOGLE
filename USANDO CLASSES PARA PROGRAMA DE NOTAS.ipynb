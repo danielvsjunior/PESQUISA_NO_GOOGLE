{
 "cells": [
  {
   "cell_type": "code",
   "execution_count": 29,
   "id": "a7b6a039",
   "metadata": {},
   "outputs": [],
   "source": [
    "#importando os pacotes do Pandas, CSV e de Matemática\n",
    "\n",
    "import pandas as pd\n",
    "import csv\n",
    "import math"
   ]
  },
  {
   "cell_type": "code",
   "execution_count": 1,
   "id": "29cb7048",
   "metadata": {},
   "outputs": [
    {
     "name": "stdout",
     "output_type": "stream",
     "text": [
      "Digite o Nome da Disciplina: Mat\n"
     ]
    }
   ],
   "source": [
    "#CORES\n",
    "# ---------------------------------------------\n",
    "class bcolors:\n",
    "    APROVADO = '\\033[92m' #GREEN\n",
    "    ATENÇÃO = '\\033[93m' #YELLOW\n",
    "    REPROVADO = '\\033[91m' #RED\n",
    "    RESET = '\\033[0m' #RESET COLOR\n",
    "\n",
    "disciplina = input('Digite o Nome da Disciplina: ')\n",
    "\n",
    "\n",
    "#FUNÇÃO DE VALIDAÇÃO DAS NOTAS\n",
    "# ---------------------------------------------\n",
    "def valid(lst):\n",
    "    i=0\n",
    "    while i==0:\n",
    "        try:\n",
    "            nota = int(input(\"Digite a nota da atividade \"+str(lst[0])+\" do Bimestre \"+str(lst[1])+\": \"))\n",
    "        except:\n",
    "            print(bcolors.ATENÇÃO+\"O valor inserido precisa ser um número entre 0 e 10\" + bcolors.RESET)\n",
    "            continue\n",
    "        if  isinstance(nota, int) == True and nota >= 0 and nota <=10:\n",
    "            i==1\n",
    "            return(nota)\n",
    "        else:\n",
    "            print(bcolors.ATENÇÃO+\"O valor inserido precisa ser um número entre 0 e 10\" + bcolors.RESET)\n",
    "            \n",
    "            \n",
    "# FUNÇÃO DE CÁLCULO DA NOTA DO BIMESTRE\n",
    "# ---------------------------------------------\n",
    "def n_bim(nots):\n",
    "    return((sum(nots))/3)\n"
   ]
  },
  {
   "cell_type": "code",
   "execution_count": 10,
   "id": "779b52e3",
   "metadata": {},
   "outputs": [],
   "source": [
    "#criando a Classe 'CadAl' que vai ser responsável por cadastrar os alunos\n",
    "\n",
    "sala = []\n",
    "\n",
    "class CadAl():\n",
    "    \n",
    "    def __init__(self):\n",
    "        self.nome = input('Digite o Nome do Aluno: ')\n",
    "        self.at1b1 = valid([1,1])\n",
    "        self.at2b1 = valid([2,1])\n",
    "        self.at3b1 = valid([3,1])\n",
    "        self.at1b2 = valid([1,2])\n",
    "        self.at2b2 = valid([2,2])\n",
    "        self.at3b2 = valid([3,2])\n",
    "        self.at1b3 = valid([1,3])\n",
    "        self.at2b3 = valid([2,3])\n",
    "        self.at3b3 = valid([3,3])\n",
    "        self.at1b4 = valid([1,4])\n",
    "        self.at2b4 = valid([2,4])\n",
    "        self.at3b4 = valid([3,4])\n",
    "        sala.append({'Nome':self.nome,'Atividade 1 B1':self.at1b1,'Atividade 2 B1':self.at2b1,'Atividade 3 B1':self.at3b1,'Atividade 1 B2':self.at1b2,'Atividade 2 B2':self.at2b2,'Atividade 3 B2':self.at3b2,'Atividade 1 B3':self.at1b3,'Atividade 2 B3':self.at2b3,'Atividade 3 B3':self.at3b3,'Atividade 1 B4':self.at1b4,'Atividade 2 B4':self.at2b4,'Atividade 3 B4':self.at3b4})"
   ]
  },
  {
   "cell_type": "code",
   "execution_count": 44,
   "id": "221e7ec7",
   "metadata": {},
   "outputs": [],
   "source": [
    "#Cadastrando os alunos"
   ]
  },
  {
   "cell_type": "code",
   "execution_count": 11,
   "id": "27466953",
   "metadata": {},
   "outputs": [
    {
     "name": "stdout",
     "output_type": "stream",
     "text": [
      "Digite o Nome do Aluno: Daniel Vieira\n",
      "Digite a nota da atividade 1 do Bimestre 1: 9\n",
      "Digite a nota da atividade 2 do Bimestre 1: 87\n",
      "\u001b[93mO valor inserido precisa ser um número entre 0 e 10\u001b[0m\n",
      "Digite a nota da atividade 2 do Bimestre 1: 7\n",
      "Digite a nota da atividade 3 do Bimestre 1: 9\n",
      "Digite a nota da atividade 1 do Bimestre 2: 8\n",
      "Digite a nota da atividade 2 do Bimestre 2: 6\n",
      "Digite a nota da atividade 3 do Bimestre 2: 7\n",
      "Digite a nota da atividade 1 do Bimestre 3: 8\n",
      "Digite a nota da atividade 2 do Bimestre 3: 9\n",
      "Digite a nota da atividade 3 do Bimestre 3: 6\n",
      "Digite a nota da atividade 1 do Bimestre 4: 7\n",
      "Digite a nota da atividade 2 do Bimestre 4: 6\n",
      "Digite a nota da atividade 3 do Bimestre 4: 8\n"
     ]
    }
   ],
   "source": [
    "Al1 = CadAl()"
   ]
  },
  {
   "cell_type": "code",
   "execution_count": 12,
   "id": "9767132a",
   "metadata": {},
   "outputs": [
    {
     "data": {
      "text/plain": [
       "[{'Nome': 'Daniel Vieira',\n",
       "  'Atividade 1 B1': 9,\n",
       "  'Atividade 2 B1': 7,\n",
       "  'Atividade 3 B1': 9,\n",
       "  'Atividade 1 B2': 8,\n",
       "  'Atividade 2 B2': 6,\n",
       "  'Atividade 3 B2': 7,\n",
       "  'Atividade 1 B3': 8,\n",
       "  'Atividade 2 B3': 9,\n",
       "  'Atividade 3 B3': 6,\n",
       "  'Atividade 1 B4': 7,\n",
       "  'Atividade 2 B4': 6,\n",
       "  'Atividade 3 B4': 8}]"
      ]
     },
     "execution_count": 12,
     "metadata": {},
     "output_type": "execute_result"
    }
   ],
   "source": [
    "#Veja que na lista sala já foram gravados os dados do primeiro aluno cadastrado\n",
    "sala"
   ]
  },
  {
   "cell_type": "code",
   "execution_count": 13,
   "id": "f9d7d322",
   "metadata": {},
   "outputs": [
    {
     "name": "stdout",
     "output_type": "stream",
     "text": [
      "Digite o Nome do Aluno: Maria Joaquina\n",
      "Digite a nota da atividade 1 do Bimestre 1: 8\n",
      "Digite a nota da atividade 2 do Bimestre 1: 9\n",
      "Digite a nota da atividade 3 do Bimestre 1: 5\n",
      "Digite a nota da atividade 1 do Bimestre 2: 7\n",
      "Digite a nota da atividade 2 do Bimestre 2: 9\n",
      "Digite a nota da atividade 3 do Bimestre 2: 8\n",
      "Digite a nota da atividade 1 do Bimestre 3: 6\n",
      "Digite a nota da atividade 2 do Bimestre 3: 8\n",
      "Digite a nota da atividade 3 do Bimestre 3: 9\n",
      "Digite a nota da atividade 1 do Bimestre 4: 6\n",
      "Digite a nota da atividade 2 do Bimestre 4: 8\n",
      "Digite a nota da atividade 3 do Bimestre 4: 9\n"
     ]
    }
   ],
   "source": [
    "Al2 = CadAl()"
   ]
  },
  {
   "cell_type": "code",
   "execution_count": 14,
   "id": "e0100ade",
   "metadata": {},
   "outputs": [
    {
     "data": {
      "text/plain": [
       "[{'Nome': 'Daniel Vieira',\n",
       "  'Atividade 1 B1': 9,\n",
       "  'Atividade 2 B1': 7,\n",
       "  'Atividade 3 B1': 9,\n",
       "  'Atividade 1 B2': 8,\n",
       "  'Atividade 2 B2': 6,\n",
       "  'Atividade 3 B2': 7,\n",
       "  'Atividade 1 B3': 8,\n",
       "  'Atividade 2 B3': 9,\n",
       "  'Atividade 3 B3': 6,\n",
       "  'Atividade 1 B4': 7,\n",
       "  'Atividade 2 B4': 6,\n",
       "  'Atividade 3 B4': 8},\n",
       " {'Nome': 'Maria Joaquina',\n",
       "  'Atividade 1 B1': 8,\n",
       "  'Atividade 2 B1': 9,\n",
       "  'Atividade 3 B1': 5,\n",
       "  'Atividade 1 B2': 7,\n",
       "  'Atividade 2 B2': 9,\n",
       "  'Atividade 3 B2': 8,\n",
       "  'Atividade 1 B3': 6,\n",
       "  'Atividade 2 B3': 8,\n",
       "  'Atividade 3 B3': 9,\n",
       "  'Atividade 1 B4': 6,\n",
       "  'Atividade 2 B4': 8,\n",
       "  'Atividade 3 B4': 9}]"
      ]
     },
     "execution_count": 14,
     "metadata": {},
     "output_type": "execute_result"
    }
   ],
   "source": [
    "#Agora temos na lista sala os dados do primeiro e do segundo aluno\n",
    "sala"
   ]
  },
  {
   "cell_type": "code",
   "execution_count": 15,
   "id": "2538f74b",
   "metadata": {},
   "outputs": [
    {
     "name": "stdout",
     "output_type": "stream",
     "text": [
      "Digite o Nome do Aluno: João Paulo\n",
      "Digite a nota da atividade 1 do Bimestre 1: 5\n",
      "Digite a nota da atividade 2 do Bimestre 1: 6\n",
      "Digite a nota da atividade 3 do Bimestre 1: 8\n",
      "Digite a nota da atividade 1 do Bimestre 2: 6\n",
      "Digite a nota da atividade 2 do Bimestre 2: 7\n",
      "Digite a nota da atividade 3 do Bimestre 2: 5\n",
      "Digite a nota da atividade 1 do Bimestre 3: 7\n",
      "Digite a nota da atividade 2 do Bimestre 3: 9\n",
      "Digite a nota da atividade 3 do Bimestre 3: 5\n",
      "Digite a nota da atividade 1 do Bimestre 4: 7\n",
      "Digite a nota da atividade 2 do Bimestre 4: 8\n",
      "Digite a nota da atividade 3 do Bimestre 4: 3\n"
     ]
    }
   ],
   "source": [
    "Al3 = CadAl()"
   ]
  },
  {
   "cell_type": "code",
   "execution_count": 16,
   "id": "8d261c6f",
   "metadata": {},
   "outputs": [
    {
     "name": "stdout",
     "output_type": "stream",
     "text": [
      "Digite o Nome do Aluno: Peter Parker\n",
      "Digite a nota da atividade 1 do Bimestre 1: 5\n",
      "Digite a nota da atividade 2 do Bimestre 1: 7\n",
      "Digite a nota da atividade 3 do Bimestre 1: 9\n",
      "Digite a nota da atividade 1 do Bimestre 2: 8\n",
      "Digite a nota da atividade 2 do Bimestre 2: 5\n",
      "Digite a nota da atividade 3 do Bimestre 2: 7\n",
      "Digite a nota da atividade 1 do Bimestre 3: 8\n",
      "Digite a nota da atividade 2 do Bimestre 3: 9\n",
      "Digite a nota da atividade 3 do Bimestre 3: 5\n",
      "Digite a nota da atividade 1 do Bimestre 4: 7\n",
      "Digite a nota da atividade 2 do Bimestre 4: 8\n",
      "Digite a nota da atividade 3 do Bimestre 4: 95\n",
      "\u001b[93mO valor inserido precisa ser um número entre 0 e 10\u001b[0m\n",
      "Digite a nota da atividade 3 do Bimestre 4: 5\n"
     ]
    }
   ],
   "source": [
    "Al4 = CadAl()"
   ]
  },
  {
   "cell_type": "code",
   "execution_count": 17,
   "id": "042d6f9a",
   "metadata": {},
   "outputs": [
    {
     "name": "stdout",
     "output_type": "stream",
     "text": [
      "Digite o Nome do Aluno: Marco Antonio\n",
      "Digite a nota da atividade 1 do Bimestre 1: 6\n",
      "Digite a nota da atividade 2 do Bimestre 1: 8\n",
      "Digite a nota da atividade 3 do Bimestre 1: 9\n",
      "Digite a nota da atividade 1 do Bimestre 2: 5\n",
      "Digite a nota da atividade 2 do Bimestre 2: 7\n",
      "Digite a nota da atividade 3 do Bimestre 2: 8\n",
      "Digite a nota da atividade 1 do Bimestre 3: 9\n",
      "Digite a nota da atividade 2 do Bimestre 3: 5\n",
      "Digite a nota da atividade 3 do Bimestre 3: 4\n",
      "Digite a nota da atividade 1 do Bimestre 4: 6\n",
      "Digite a nota da atividade 2 do Bimestre 4: 8\n",
      "Digite a nota da atividade 3 do Bimestre 4: 8\n"
     ]
    }
   ],
   "source": [
    "Al5 = CadAl()"
   ]
  },
  {
   "cell_type": "code",
   "execution_count": 18,
   "id": "63068a28",
   "metadata": {},
   "outputs": [
    {
     "name": "stdout",
     "output_type": "stream",
     "text": [
      "Digite o Nome do Aluno: Maikon Diekysson\n",
      "Digite a nota da atividade 1 do Bimestre 1: 6\n",
      "Digite a nota da atividade 2 do Bimestre 1: 7\n",
      "Digite a nota da atividade 3 do Bimestre 1: 8\n",
      "Digite a nota da atividade 1 do Bimestre 2: 9\n",
      "Digite a nota da atividade 2 do Bimestre 2: 8\n",
      "Digite a nota da atividade 3 do Bimestre 2: 6\n",
      "Digite a nota da atividade 1 do Bimestre 3: 5\n",
      "Digite a nota da atividade 2 do Bimestre 3: 7\n",
      "Digite a nota da atividade 3 do Bimestre 3: 8\n",
      "Digite a nota da atividade 1 do Bimestre 4: 9\n",
      "Digite a nota da atividade 2 do Bimestre 4: 6\n",
      "Digite a nota da atividade 3 do Bimestre 4: 5\n"
     ]
    }
   ],
   "source": [
    "Al6 = CadAl()"
   ]
  },
  {
   "cell_type": "code",
   "execution_count": 19,
   "id": "3c63fded",
   "metadata": {},
   "outputs": [
    {
     "data": {
      "text/plain": [
       "[{'Nome': 'Daniel Vieira',\n",
       "  'Atividade 1 B1': 9,\n",
       "  'Atividade 2 B1': 7,\n",
       "  'Atividade 3 B1': 9,\n",
       "  'Atividade 1 B2': 8,\n",
       "  'Atividade 2 B2': 6,\n",
       "  'Atividade 3 B2': 7,\n",
       "  'Atividade 1 B3': 8,\n",
       "  'Atividade 2 B3': 9,\n",
       "  'Atividade 3 B3': 6,\n",
       "  'Atividade 1 B4': 7,\n",
       "  'Atividade 2 B4': 6,\n",
       "  'Atividade 3 B4': 8},\n",
       " {'Nome': 'Maria Joaquina',\n",
       "  'Atividade 1 B1': 8,\n",
       "  'Atividade 2 B1': 9,\n",
       "  'Atividade 3 B1': 5,\n",
       "  'Atividade 1 B2': 7,\n",
       "  'Atividade 2 B2': 9,\n",
       "  'Atividade 3 B2': 8,\n",
       "  'Atividade 1 B3': 6,\n",
       "  'Atividade 2 B3': 8,\n",
       "  'Atividade 3 B3': 9,\n",
       "  'Atividade 1 B4': 6,\n",
       "  'Atividade 2 B4': 8,\n",
       "  'Atividade 3 B4': 9},\n",
       " {'Nome': 'João Paulo',\n",
       "  'Atividade 1 B1': 5,\n",
       "  'Atividade 2 B1': 6,\n",
       "  'Atividade 3 B1': 8,\n",
       "  'Atividade 1 B2': 6,\n",
       "  'Atividade 2 B2': 7,\n",
       "  'Atividade 3 B2': 5,\n",
       "  'Atividade 1 B3': 7,\n",
       "  'Atividade 2 B3': 9,\n",
       "  'Atividade 3 B3': 5,\n",
       "  'Atividade 1 B4': 7,\n",
       "  'Atividade 2 B4': 8,\n",
       "  'Atividade 3 B4': 3},\n",
       " {'Nome': 'Peter Parker',\n",
       "  'Atividade 1 B1': 5,\n",
       "  'Atividade 2 B1': 7,\n",
       "  'Atividade 3 B1': 9,\n",
       "  'Atividade 1 B2': 8,\n",
       "  'Atividade 2 B2': 5,\n",
       "  'Atividade 3 B2': 7,\n",
       "  'Atividade 1 B3': 8,\n",
       "  'Atividade 2 B3': 9,\n",
       "  'Atividade 3 B3': 5,\n",
       "  'Atividade 1 B4': 7,\n",
       "  'Atividade 2 B4': 8,\n",
       "  'Atividade 3 B4': 5},\n",
       " {'Nome': 'Marco Antonio',\n",
       "  'Atividade 1 B1': 6,\n",
       "  'Atividade 2 B1': 8,\n",
       "  'Atividade 3 B1': 9,\n",
       "  'Atividade 1 B2': 5,\n",
       "  'Atividade 2 B2': 7,\n",
       "  'Atividade 3 B2': 8,\n",
       "  'Atividade 1 B3': 9,\n",
       "  'Atividade 2 B3': 5,\n",
       "  'Atividade 3 B3': 4,\n",
       "  'Atividade 1 B4': 6,\n",
       "  'Atividade 2 B4': 8,\n",
       "  'Atividade 3 B4': 8},\n",
       " {'Nome': 'Maikon Diekysson',\n",
       "  'Atividade 1 B1': 6,\n",
       "  'Atividade 2 B1': 7,\n",
       "  'Atividade 3 B1': 8,\n",
       "  'Atividade 1 B2': 9,\n",
       "  'Atividade 2 B2': 8,\n",
       "  'Atividade 3 B2': 6,\n",
       "  'Atividade 1 B3': 5,\n",
       "  'Atividade 2 B3': 7,\n",
       "  'Atividade 3 B3': 8,\n",
       "  'Atividade 1 B4': 9,\n",
       "  'Atividade 2 B4': 6,\n",
       "  'Atividade 3 B4': 5}]"
      ]
     },
     "execution_count": 19,
     "metadata": {},
     "output_type": "execute_result"
    }
   ],
   "source": [
    "#Pronto, agora a lista sala tem os dados de todos os alunos\n",
    "sala"
   ]
  },
  {
   "cell_type": "code",
   "execution_count": 45,
   "id": "b102ec63",
   "metadata": {},
   "outputs": [
    {
     "data": {
      "text/plain": [
       "list"
      ]
     },
     "execution_count": 45,
     "metadata": {},
     "output_type": "execute_result"
    }
   ],
   "source": [
    "#veja que sala é uma lista\n",
    "type(sala)"
   ]
  },
  {
   "cell_type": "code",
   "execution_count": 21,
   "id": "8b18e84a",
   "metadata": {},
   "outputs": [
    {
     "data": {
      "text/plain": [
       "dict"
      ]
     },
     "execution_count": 21,
     "metadata": {},
     "output_type": "execute_result"
    }
   ],
   "source": [
    "#E na lista sala os dados foram gravados em dicionários\n",
    "type(sala[0])"
   ]
  },
  {
   "cell_type": "code",
   "execution_count": 27,
   "id": "c2954ca6",
   "metadata": {},
   "outputs": [],
   "source": [
    "#agora vamos separar a lista sala em linhas\n",
    "\n",
    "sllinha = []\n",
    "for x in range(len(sala)):\n",
    "    Nome = sala[x]['Nome']\n",
    "    Atividade1B1 = sala[x]['Atividade 1 B1']\n",
    "    Atividade2B1 = sala[x]['Atividade 2 B1']\n",
    "    Atividade3B1 = sala[x]['Atividade 3 B1']\n",
    "    Atividade1B2 = sala[x]['Atividade 1 B2']\n",
    "    Atividade2B2 = sala[x]['Atividade 2 B2']\n",
    "    Atividade3B2 = sala[x]['Atividade 3 B2']\n",
    "    Atividade1B3 = sala[x]['Atividade 1 B3']\n",
    "    Atividade2B3 = sala[x]['Atividade 2 B3']\n",
    "    Atividade3B3 = sala[x]['Atividade 3 B3']\n",
    "    Atividade1B4 = sala[x]['Atividade 1 B4']\n",
    "    Atividade2B4 = sala[x]['Atividade 2 B4']\n",
    "    Atividade3B4 = sala[x]['Atividade 3 B4']\n",
    "    lint = [Nome,Atividade1B1,Atividade2B1,Atividade3B1,Atividade1B2,Atividade2B2,Atividade3B2,Atividade1B3,Atividade2B3,Atividade3B3,Atividade1B4,Atividade2B4,Atividade3B4,]\n",
    "    sllinha.append(lint)"
   ]
  },
  {
   "cell_type": "code",
   "execution_count": 28,
   "id": "d000baf9",
   "metadata": {},
   "outputs": [
    {
     "data": {
      "text/plain": [
       "[['Daniel Vieira', 9, 7, 9, 8, 6, 7, 8, 9, 6, 7, 6, 8],\n",
       " ['Maria Joaquina', 8, 9, 5, 7, 9, 8, 6, 8, 9, 6, 8, 9],\n",
       " ['João Paulo', 5, 6, 8, 6, 7, 5, 7, 9, 5, 7, 8, 3],\n",
       " ['Peter Parker', 5, 7, 9, 8, 5, 7, 8, 9, 5, 7, 8, 5],\n",
       " ['Marco Antonio', 6, 8, 9, 5, 7, 8, 9, 5, 4, 6, 8, 8],\n",
       " ['Maikon Diekysson', 6, 7, 8, 9, 8, 6, 5, 7, 8, 9, 6, 5]]"
      ]
     },
     "execution_count": 28,
     "metadata": {},
     "output_type": "execute_result"
    }
   ],
   "source": [
    "\n",
    "sllinha"
   ]
  },
  {
   "cell_type": "code",
   "execution_count": 41,
   "id": "e32e4e2a",
   "metadata": {},
   "outputs": [],
   "source": [
    "tabsala = pd.DataFrame(sllinha, columns = ('Nome','Atividade 1 B1','Atividade 2 B1','Atividade 3 B1','Atividade 1 B2','Atividade 2 B2','Atividade 3 B2','Atividade 1 B3','Atividade 2 B3','Atividade 3 B3','Atividade 1 B4','Atividade 2 B4','Atividade 3 B4'))"
   ]
  },
  {
   "cell_type": "code",
   "execution_count": 42,
   "id": "3d80c5d1",
   "metadata": {},
   "outputs": [
    {
     "data": {
      "text/html": [
       "<div>\n",
       "<style scoped>\n",
       "    .dataframe tbody tr th:only-of-type {\n",
       "        vertical-align: middle;\n",
       "    }\n",
       "\n",
       "    .dataframe tbody tr th {\n",
       "        vertical-align: top;\n",
       "    }\n",
       "\n",
       "    .dataframe thead th {\n",
       "        text-align: right;\n",
       "    }\n",
       "</style>\n",
       "<table border=\"1\" class=\"dataframe\">\n",
       "  <thead>\n",
       "    <tr style=\"text-align: right;\">\n",
       "      <th></th>\n",
       "      <th>Nome</th>\n",
       "      <th>Atividade 1 B1</th>\n",
       "      <th>Atividade 2 B1</th>\n",
       "      <th>Atividade 3 B1</th>\n",
       "      <th>Atividade 1 B2</th>\n",
       "      <th>Atividade 2 B2</th>\n",
       "      <th>Atividade 3 B2</th>\n",
       "      <th>Atividade 1 B3</th>\n",
       "      <th>Atividade 2 B3</th>\n",
       "      <th>Atividade 3 B3</th>\n",
       "      <th>Atividade 1 B4</th>\n",
       "      <th>Atividade 2 B4</th>\n",
       "      <th>Atividade 3 B4</th>\n",
       "    </tr>\n",
       "  </thead>\n",
       "  <tbody>\n",
       "    <tr>\n",
       "      <th>0</th>\n",
       "      <td>Daniel Vieira</td>\n",
       "      <td>9</td>\n",
       "      <td>7</td>\n",
       "      <td>9</td>\n",
       "      <td>8</td>\n",
       "      <td>6</td>\n",
       "      <td>7</td>\n",
       "      <td>8</td>\n",
       "      <td>9</td>\n",
       "      <td>6</td>\n",
       "      <td>7</td>\n",
       "      <td>6</td>\n",
       "      <td>8</td>\n",
       "    </tr>\n",
       "    <tr>\n",
       "      <th>1</th>\n",
       "      <td>Maria Joaquina</td>\n",
       "      <td>8</td>\n",
       "      <td>9</td>\n",
       "      <td>5</td>\n",
       "      <td>7</td>\n",
       "      <td>9</td>\n",
       "      <td>8</td>\n",
       "      <td>6</td>\n",
       "      <td>8</td>\n",
       "      <td>9</td>\n",
       "      <td>6</td>\n",
       "      <td>8</td>\n",
       "      <td>9</td>\n",
       "    </tr>\n",
       "    <tr>\n",
       "      <th>2</th>\n",
       "      <td>João Paulo</td>\n",
       "      <td>5</td>\n",
       "      <td>6</td>\n",
       "      <td>8</td>\n",
       "      <td>6</td>\n",
       "      <td>7</td>\n",
       "      <td>5</td>\n",
       "      <td>7</td>\n",
       "      <td>9</td>\n",
       "      <td>5</td>\n",
       "      <td>7</td>\n",
       "      <td>8</td>\n",
       "      <td>3</td>\n",
       "    </tr>\n",
       "    <tr>\n",
       "      <th>3</th>\n",
       "      <td>Peter Parker</td>\n",
       "      <td>5</td>\n",
       "      <td>7</td>\n",
       "      <td>9</td>\n",
       "      <td>8</td>\n",
       "      <td>5</td>\n",
       "      <td>7</td>\n",
       "      <td>8</td>\n",
       "      <td>9</td>\n",
       "      <td>5</td>\n",
       "      <td>7</td>\n",
       "      <td>8</td>\n",
       "      <td>5</td>\n",
       "    </tr>\n",
       "    <tr>\n",
       "      <th>4</th>\n",
       "      <td>Marco Antonio</td>\n",
       "      <td>6</td>\n",
       "      <td>8</td>\n",
       "      <td>9</td>\n",
       "      <td>5</td>\n",
       "      <td>7</td>\n",
       "      <td>8</td>\n",
       "      <td>9</td>\n",
       "      <td>5</td>\n",
       "      <td>4</td>\n",
       "      <td>6</td>\n",
       "      <td>8</td>\n",
       "      <td>8</td>\n",
       "    </tr>\n",
       "    <tr>\n",
       "      <th>5</th>\n",
       "      <td>Maikon Diekysson</td>\n",
       "      <td>6</td>\n",
       "      <td>7</td>\n",
       "      <td>8</td>\n",
       "      <td>9</td>\n",
       "      <td>8</td>\n",
       "      <td>6</td>\n",
       "      <td>5</td>\n",
       "      <td>7</td>\n",
       "      <td>8</td>\n",
       "      <td>9</td>\n",
       "      <td>6</td>\n",
       "      <td>5</td>\n",
       "    </tr>\n",
       "  </tbody>\n",
       "</table>\n",
       "</div>"
      ],
      "text/plain": [
       "               Nome  Atividade 1 B1  Atividade 2 B1  Atividade 3 B1  \\\n",
       "0     Daniel Vieira               9               7               9   \n",
       "1    Maria Joaquina               8               9               5   \n",
       "2        João Paulo               5               6               8   \n",
       "3      Peter Parker               5               7               9   \n",
       "4     Marco Antonio               6               8               9   \n",
       "5  Maikon Diekysson               6               7               8   \n",
       "\n",
       "   Atividade 1 B2  Atividade 2 B2  Atividade 3 B2  Atividade 1 B3  \\\n",
       "0               8               6               7               8   \n",
       "1               7               9               8               6   \n",
       "2               6               7               5               7   \n",
       "3               8               5               7               8   \n",
       "4               5               7               8               9   \n",
       "5               9               8               6               5   \n",
       "\n",
       "   Atividade 2 B3  Atividade 3 B3  Atividade 1 B4  Atividade 2 B4  \\\n",
       "0               9               6               7               6   \n",
       "1               8               9               6               8   \n",
       "2               9               5               7               8   \n",
       "3               9               5               7               8   \n",
       "4               5               4               6               8   \n",
       "5               7               8               9               6   \n",
       "\n",
       "   Atividade 3 B4  \n",
       "0               8  \n",
       "1               9  \n",
       "2               3  \n",
       "3               5  \n",
       "4               8  \n",
       "5               5  "
      ]
     },
     "execution_count": 42,
     "metadata": {},
     "output_type": "execute_result"
    }
   ],
   "source": [
    "tabsala"
   ]
  },
  {
   "cell_type": "raw",
   "id": "5a772249",
   "metadata": {},
   "source": [
    "df.to_csv(\"C:\\Users\\conta\\OneDrive\\Área de Trabalho\\programa de notas.csv\", encoding='utf-8')"
   ]
  },
  {
   "cell_type": "code",
   "execution_count": 39,
   "id": "51a8a896",
   "metadata": {},
   "outputs": [],
   "source": [
    "tabsala.to_csv(\"C:\\\\Users\\\\conta\\\\OneDrive\\\\Área de Trabalho\\\\programa_de_notas.csv\", encoding='utf-8')"
   ]
  },
  {
   "cell_type": "code",
   "execution_count": 46,
   "id": "75ac835f",
   "metadata": {},
   "outputs": [],
   "source": [
    "Lista_de_todas_linhas = tabsala.values.tolist()"
   ]
  },
  {
   "cell_type": "code",
   "execution_count": 47,
   "id": "c7b4d754",
   "metadata": {},
   "outputs": [
    {
     "data": {
      "text/plain": [
       "[['Daniel Vieira', 9, 7, 9, 8, 6, 7, 8, 9, 6, 7, 6, 8],\n",
       " ['Maria Joaquina', 8, 9, 5, 7, 9, 8, 6, 8, 9, 6, 8, 9],\n",
       " ['João Paulo', 5, 6, 8, 6, 7, 5, 7, 9, 5, 7, 8, 3],\n",
       " ['Peter Parker', 5, 7, 9, 8, 5, 7, 8, 9, 5, 7, 8, 5],\n",
       " ['Marco Antonio', 6, 8, 9, 5, 7, 8, 9, 5, 4, 6, 8, 8],\n",
       " ['Maikon Diekysson', 6, 7, 8, 9, 8, 6, 5, 7, 8, 9, 6, 5]]"
      ]
     },
     "execution_count": 47,
     "metadata": {},
     "output_type": "execute_result"
    }
   ],
   "source": [
    "Lista_de_todas_linhas"
   ]
  },
  {
   "cell_type": "code",
   "execution_count": null,
   "id": "d9e4e049",
   "metadata": {},
   "outputs": [],
   "source": []
  }
 ],
 "metadata": {
  "kernelspec": {
   "display_name": "Python 3 (ipykernel)",
   "language": "python",
   "name": "python3"
  },
  "language_info": {
   "codemirror_mode": {
    "name": "ipython",
    "version": 3
   },
   "file_extension": ".py",
   "mimetype": "text/x-python",
   "name": "python",
   "nbconvert_exporter": "python",
   "pygments_lexer": "ipython3",
   "version": "3.9.7"
  }
 },
 "nbformat": 4,
 "nbformat_minor": 5
}
