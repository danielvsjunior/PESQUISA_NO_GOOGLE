{
 "cells": [
  {
   "cell_type": "code",
   "execution_count": 1,
   "id": "f025ba62",
   "metadata": {},
   "outputs": [],
   "source": [
    "#importando os pacotes do Pandas, CSV e de Matemática\n",
    "\n",
    "import pandas as pd\n",
    "import csv\n",
    "import math"
   ]
  },
  {
   "cell_type": "code",
   "execution_count": 2,
   "id": "89cb0974",
   "metadata": {},
   "outputs": [
    {
     "name": "stdout",
     "output_type": "stream",
     "text": [
      "Digite o Nome da Disciplina: Matemática\n"
     ]
    }
   ],
   "source": [
    "#CORES\n",
    "# ---------------------------------------------\n",
    "class bcolors:\n",
    "    APROVADO = '\\033[92m' #GREEN\n",
    "    ATENÇÃO = '\\033[93m' #YELLOW\n",
    "    REPROVADO = '\\033[91m' #RED\n",
    "    RESET = '\\033[0m' #RESET COLOR\n",
    "\n",
    "disciplina = input('Digite o Nome da Disciplina: ')\n",
    "\n",
    "\n",
    "#FUNÇÃO DE VALIDAÇÃO DAS NOTAS\n",
    "# ---------------------------------------------\n",
    "def valid(lst):\n",
    "    i=0\n",
    "    while i==0:\n",
    "        try:\n",
    "            nota = int(input(\"Digite a nota da atividade \"+str(lst[0])+\" do Bimestre \"+str(lst[1])+\": \"))\n",
    "        except:\n",
    "            print(bcolors.ATENÇÃO+\"O valor inserido precisa ser um número entre 0 e 10\" + bcolors.RESET)\n",
    "            continue\n",
    "        if  isinstance(nota, int) == True and nota >= 0 and nota <=10:\n",
    "            i==1\n",
    "            return(nota)\n",
    "        else:\n",
    "            print(bcolors.ATENÇÃO+\"O valor inserido precisa ser um número entre 0 e 10\" + bcolors.RESET)\n",
    "            \n",
    "            \n",
    "# FUNÇÃO DE CÁLCULO DA NOTA DO BIMESTRE\n",
    "# ---------------------------------------------\n",
    "def n_bim(nots):\n",
    "    return((sum(nots))/3)\n"
   ]
  },
  {
   "cell_type": "code",
   "execution_count": 3,
   "id": "bf036401",
   "metadata": {},
   "outputs": [],
   "source": [
    "#criando a Classe 'CadAl' que vai ser responsável por cadastrar os alunos\n",
    "\n",
    "sala = []\n",
    "\n",
    "class CadAl():\n",
    "    \n",
    "    def __init__(self):\n",
    "        self.nome = input('Digite o Nome do Aluno: ')\n",
    "        self.at1b1 = valid([1,1])\n",
    "        self.at2b1 = valid([2,1])\n",
    "        self.at3b1 = valid([3,1])\n",
    "        self.at1b2 = valid([1,2])\n",
    "        self.at2b2 = valid([2,2])\n",
    "        self.at3b2 = valid([3,2])\n",
    "        self.at1b3 = valid([1,3])\n",
    "        self.at2b3 = valid([2,3])\n",
    "        self.at3b3 = valid([3,3])\n",
    "        self.at1b4 = valid([1,4])\n",
    "        self.at2b4 = valid([2,4])\n",
    "        self.at3b4 = valid([3,4])\n",
    "        sala.append([self.nome,self.at1b1,self.at2b1,self.at3b1,self.at1b2,self.at2b2,self.at3b2,self.at1b3,self.at2b3,self.at3b3,self.at1b4,self.at2b4,self.at3b4])"
   ]
  },
  {
   "cell_type": "code",
   "execution_count": 4,
   "id": "1d144ada",
   "metadata": {},
   "outputs": [],
   "source": [
    "#Cadastrando os alunos"
   ]
  },
  {
   "cell_type": "code",
   "execution_count": 5,
   "id": "6d379198",
   "metadata": {},
   "outputs": [
    {
     "name": "stdout",
     "output_type": "stream",
     "text": [
      "Digite o Nome do Aluno: Daniel Vieira\n",
      "Digite a nota da atividade 1 do Bimestre 1: 6\n",
      "Digite a nota da atividade 2 do Bimestre 1: \n",
      "\u001b[93mO valor inserido precisa ser um número entre 0 e 10\u001b[0m\n",
      "Digite a nota da atividade 2 do Bimestre 1: 5\n",
      "Digite a nota da atividade 3 do Bimestre 1: 7\n",
      "Digite a nota da atividade 1 do Bimestre 2: 5\n",
      "Digite a nota da atividade 2 do Bimestre 2: 6\n",
      "Digite a nota da atividade 3 do Bimestre 2: 8\n",
      "Digite a nota da atividade 1 do Bimestre 3: 5\n",
      "Digite a nota da atividade 2 do Bimestre 3: 6\n",
      "Digite a nota da atividade 3 do Bimestre 3: 8\n",
      "Digite a nota da atividade 1 do Bimestre 4: 5\n",
      "Digite a nota da atividade 2 do Bimestre 4: 6\n",
      "Digite a nota da atividade 3 do Bimestre 4: 7\n"
     ]
    }
   ],
   "source": [
    "Al1 = CadAl()"
   ]
  },
  {
   "cell_type": "code",
   "execution_count": 6,
   "id": "5c460b94",
   "metadata": {},
   "outputs": [
    {
     "name": "stdout",
     "output_type": "stream",
     "text": [
      "Digite o Nome do Aluno: João Paulo\n",
      "Digite a nota da atividade 1 do Bimestre 1: 6\n",
      "Digite a nota da atividade 2 do Bimestre 1: 7\n",
      "Digite a nota da atividade 3 do Bimestre 1: 8\n",
      "Digite a nota da atividade 1 do Bimestre 2: 4\n",
      "Digite a nota da atividade 2 do Bimestre 2: 5\n",
      "Digite a nota da atividade 3 do Bimestre 2: 7\n",
      "Digite a nota da atividade 1 do Bimestre 3: 8\n",
      "Digite a nota da atividade 2 do Bimestre 3: 9\n",
      "Digite a nota da atividade 3 do Bimestre 3: \n",
      "\u001b[93mO valor inserido precisa ser um número entre 0 e 10\u001b[0m\n",
      "Digite a nota da atividade 3 do Bimestre 3: 9\n",
      "Digite a nota da atividade 1 do Bimestre 4: 7\n",
      "Digite a nota da atividade 2 do Bimestre 4: 5\n",
      "Digite a nota da atividade 3 do Bimestre 4: 7\n"
     ]
    }
   ],
   "source": [
    "Al2 = CadAl()"
   ]
  },
  {
   "cell_type": "code",
   "execution_count": 7,
   "id": "e06408b6",
   "metadata": {},
   "outputs": [
    {
     "name": "stdout",
     "output_type": "stream",
     "text": [
      "Digite o Nome do Aluno: Peter Parker\n",
      "Digite a nota da atividade 1 do Bimestre 1: 9\n",
      "Digite a nota da atividade 2 do Bimestre 1: 8\n",
      "Digite a nota da atividade 3 do Bimestre 1: 9\n",
      "Digite a nota da atividade 1 do Bimestre 2: 8\n",
      "Digite a nota da atividade 2 do Bimestre 2: 9\n",
      "Digite a nota da atividade 3 do Bimestre 2: 9\n",
      "Digite a nota da atividade 1 do Bimestre 3: 9\n",
      "Digite a nota da atividade 2 do Bimestre 3: 9\n",
      "Digite a nota da atividade 3 do Bimestre 3: 8\n",
      "Digite a nota da atividade 1 do Bimestre 4: 9\n",
      "Digite a nota da atividade 2 do Bimestre 4: 9\n",
      "Digite a nota da atividade 3 do Bimestre 4: 9\n"
     ]
    }
   ],
   "source": [
    "Al3 = CadAl()"
   ]
  },
  {
   "cell_type": "code",
   "execution_count": 8,
   "id": "0f18f72d",
   "metadata": {},
   "outputs": [
    {
     "name": "stdout",
     "output_type": "stream",
     "text": [
      "Digite o Nome do Aluno: Michael Jackson\n",
      "Digite a nota da atividade 1 do Bimestre 1: 6\n",
      "Digite a nota da atividade 2 do Bimestre 1: 5\n",
      "Digite a nota da atividade 3 do Bimestre 1: 4\n",
      "Digite a nota da atividade 1 do Bimestre 2: 3\n",
      "Digite a nota da atividade 2 do Bimestre 2: 4\n",
      "Digite a nota da atividade 3 do Bimestre 2: 6\n",
      "Digite a nota da atividade 1 do Bimestre 3: 5\n",
      "Digite a nota da atividade 2 do Bimestre 3: 4\n",
      "Digite a nota da atividade 3 do Bimestre 3: 2\n",
      "Digite a nota da atividade 1 do Bimestre 4: 4\n",
      "Digite a nota da atividade 2 do Bimestre 4: 6\n",
      "Digite a nota da atividade 3 do Bimestre 4: 5\n"
     ]
    }
   ],
   "source": [
    "Al4 = CadAl()"
   ]
  },
  {
   "cell_type": "code",
   "execution_count": 9,
   "id": "53fb17c1",
   "metadata": {},
   "outputs": [
    {
     "name": "stdout",
     "output_type": "stream",
     "text": [
      "Digite o Nome do Aluno: Julius César\n",
      "Digite a nota da atividade 1 do Bimestre 1: 6\n",
      "Digite a nota da atividade 2 do Bimestre 1: 5\n",
      "Digite a nota da atividade 3 do Bimestre 1: 7\n",
      "Digite a nota da atividade 1 do Bimestre 2: 3\n",
      "Digite a nota da atividade 2 do Bimestre 2: 2\n",
      "Digite a nota da atividade 3 do Bimestre 2: 1\n",
      "Digite a nota da atividade 1 do Bimestre 3: 3\n",
      "Digite a nota da atividade 2 do Bimestre 3: 32\n",
      "\u001b[93mO valor inserido precisa ser um número entre 0 e 10\u001b[0m\n",
      "Digite a nota da atividade 2 do Bimestre 3: 3\n",
      "Digite a nota da atividade 3 do Bimestre 3: 2\n",
      "Digite a nota da atividade 1 do Bimestre 4: 1\n",
      "Digite a nota da atividade 2 do Bimestre 4: 3\n",
      "Digite a nota da atividade 3 do Bimestre 4: 4\n"
     ]
    }
   ],
   "source": [
    "Al5 = CadAl()"
   ]
  },
  {
   "cell_type": "code",
   "execution_count": 10,
   "id": "65f0ab77",
   "metadata": {},
   "outputs": [
    {
     "name": "stdout",
     "output_type": "stream",
     "text": [
      "Digite o Nome do Aluno: Silvio Santos\n",
      "Digite a nota da atividade 1 do Bimestre 1: 4\n",
      "Digite a nota da atividade 2 do Bimestre 1: 3\n",
      "Digite a nota da atividade 3 do Bimestre 1: 2\n",
      "Digite a nota da atividade 1 do Bimestre 2: 6\n",
      "Digite a nota da atividade 2 do Bimestre 2: 4\n",
      "Digite a nota da atividade 3 do Bimestre 2: 7\n",
      "Digite a nota da atividade 1 do Bimestre 3: 3\n",
      "Digite a nota da atividade 2 do Bimestre 3: 3\n",
      "Digite a nota da atividade 3 do Bimestre 3: 4\n",
      "Digite a nota da atividade 1 do Bimestre 4: 3\n",
      "Digite a nota da atividade 2 do Bimestre 4: 6\n",
      "Digite a nota da atividade 3 do Bimestre 4: 3\n"
     ]
    }
   ],
   "source": [
    "Al6 = CadAl()"
   ]
  },
  {
   "cell_type": "code",
   "execution_count": 11,
   "id": "aeb59f50",
   "metadata": {},
   "outputs": [
    {
     "name": "stdout",
     "output_type": "stream",
     "text": [
      "Digite o Nome do Aluno: Carmen Miranda\n",
      "Digite a nota da atividade 1 do Bimestre 1: 4\n",
      "Digite a nota da atividade 2 do Bimestre 1: 6\n",
      "Digite a nota da atividade 3 do Bimestre 1: 3\n",
      "Digite a nota da atividade 1 do Bimestre 2: 4\n",
      "Digite a nota da atividade 2 do Bimestre 2: 6\n",
      "Digite a nota da atividade 3 do Bimestre 2: 7\n",
      "Digite a nota da atividade 1 do Bimestre 3: 8\n",
      "Digite a nota da atividade 2 do Bimestre 3: 9\n",
      "Digite a nota da atividade 3 do Bimestre 3: 7\n",
      "Digite a nota da atividade 1 do Bimestre 4: 8\n",
      "Digite a nota da atividade 2 do Bimestre 4: 9\n",
      "Digite a nota da atividade 3 do Bimestre 4: 8\n"
     ]
    }
   ],
   "source": [
    "Al7 = CadAl()"
   ]
  },
  {
   "cell_type": "code",
   "execution_count": 12,
   "id": "53b685f0",
   "metadata": {},
   "outputs": [
    {
     "name": "stdout",
     "output_type": "stream",
     "text": [
      "Digite o Nome do Aluno: Ana Maria\n",
      "Digite a nota da atividade 1 do Bimestre 1: 6\n",
      "Digite a nota da atividade 2 do Bimestre 1: 7\n",
      "Digite a nota da atividade 3 do Bimestre 1: 8\n",
      "Digite a nota da atividade 1 do Bimestre 2: 3\n",
      "Digite a nota da atividade 2 do Bimestre 2: 4\n",
      "Digite a nota da atividade 3 do Bimestre 2: 5\n",
      "Digite a nota da atividade 1 do Bimestre 3: 3\n",
      "Digite a nota da atividade 2 do Bimestre 3: 5\n",
      "Digite a nota da atividade 3 do Bimestre 3: 7\n",
      "Digite a nota da atividade 1 do Bimestre 4: 4\n",
      "Digite a nota da atividade 2 do Bimestre 4: 5\n",
      "Digite a nota da atividade 3 do Bimestre 4: 4\n"
     ]
    }
   ],
   "source": [
    "Al8 = CadAl()"
   ]
  },
  {
   "cell_type": "code",
   "execution_count": 13,
   "id": "dc23f891",
   "metadata": {},
   "outputs": [
    {
     "name": "stdout",
     "output_type": "stream",
     "text": [
      "Digite o Nome do Aluno: Marcia\n",
      "Digite a nota da atividade 1 do Bimestre 1: \n",
      "\u001b[93mO valor inserido precisa ser um número entre 0 e 10\u001b[0m\n",
      "Digite a nota da atividade 1 do Bimestre 1: 7\n",
      "Digite a nota da atividade 2 do Bimestre 1: 8\n",
      "Digite a nota da atividade 3 do Bimestre 1: 5\n",
      "Digite a nota da atividade 1 do Bimestre 2: 63\n",
      "\u001b[93mO valor inserido precisa ser um número entre 0 e 10\u001b[0m\n",
      "Digite a nota da atividade 1 do Bimestre 2: 5\n",
      "Digite a nota da atividade 2 do Bimestre 2: 6\n",
      "Digite a nota da atividade 3 do Bimestre 2: 7\n",
      "Digite a nota da atividade 1 do Bimestre 3: 8\n",
      "Digite a nota da atividade 2 do Bimestre 3: 4\n",
      "Digite a nota da atividade 3 do Bimestre 3: 3\n",
      "Digite a nota da atividade 1 do Bimestre 4: 2\n",
      "Digite a nota da atividade 2 do Bimestre 4: 4\n",
      "Digite a nota da atividade 3 do Bimestre 4: 5\n"
     ]
    }
   ],
   "source": [
    "Al9 = CadAl()"
   ]
  },
  {
   "cell_type": "code",
   "execution_count": 14,
   "id": "77046945",
   "metadata": {},
   "outputs": [
    {
     "name": "stdout",
     "output_type": "stream",
     "text": [
      "Digite o Nome do Aluno: Judith\n",
      "Digite a nota da atividade 1 do Bimestre 1: 3\n",
      "Digite a nota da atividade 2 do Bimestre 1: 4\n",
      "Digite a nota da atividade 3 do Bimestre 1: 5\n",
      "Digite a nota da atividade 1 do Bimestre 2: 7\n",
      "Digite a nota da atividade 2 do Bimestre 2: 6\n",
      "Digite a nota da atividade 3 do Bimestre 2: 4\n",
      "Digite a nota da atividade 1 do Bimestre 3: 2\n",
      "Digite a nota da atividade 2 do Bimestre 3: 2\n",
      "Digite a nota da atividade 3 do Bimestre 3: 3\n",
      "Digite a nota da atividade 1 do Bimestre 4: 1\n",
      "Digite a nota da atividade 2 do Bimestre 4: 4\n",
      "Digite a nota da atividade 3 do Bimestre 4: 5\n"
     ]
    }
   ],
   "source": [
    "Al10 = CadAl()"
   ]
  },
  {
   "cell_type": "code",
   "execution_count": 19,
   "id": "04bd651c",
   "metadata": {},
   "outputs": [
    {
     "data": {
      "text/plain": [
       "[['Daniel Vieira', 6, 5, 7, 5, 6, 8, 5, 6, 8, 5, 6, 7],\n",
       " ['João Paulo', 6, 7, 8, 4, 5, 7, 8, 9, 9, 7, 5, 7],\n",
       " ['Peter Parker', 9, 8, 9, 8, 9, 9, 9, 9, 8, 9, 9, 9],\n",
       " ['Michael Jackson', 6, 5, 4, 3, 4, 6, 5, 4, 2, 4, 6, 5],\n",
       " ['Julius César', 6, 5, 7, 3, 2, 1, 3, 3, 2, 1, 3, 4],\n",
       " ['Silvio Santos', 4, 3, 2, 6, 4, 7, 3, 3, 4, 3, 6, 3],\n",
       " ['Carmen Miranda', 4, 6, 3, 4, 6, 7, 8, 9, 7, 8, 9, 8],\n",
       " ['Ana Maria', 6, 7, 8, 3, 4, 5, 3, 5, 7, 4, 5, 4],\n",
       " ['Marcia', 7, 8, 5, 5, 6, 7, 8, 4, 3, 2, 4, 5],\n",
       " ['Judith', 3, 4, 5, 7, 6, 4, 2, 2, 3, 1, 4, 5]]"
      ]
     },
     "execution_count": 19,
     "metadata": {},
     "output_type": "execute_result"
    }
   ],
   "source": [
    "sala"
   ]
  },
  {
   "cell_type": "code",
   "execution_count": 23,
   "id": "cf8a0b26",
   "metadata": {},
   "outputs": [],
   "source": [
    "with open(\"C:\\\\Users\\\\conta\\\\OneDrive\\\\Área de Trabalho\\\\Notas de Sala teste.csv\",'w') as tste:\n",
    "    writer = csv.writer(tste)\n",
    "    writer.writerow(('Nome','Atividade 1 B1','Atividade 2 B1','Atividade 3 B1','Atividade 1 B2','Atividade 2 B2','Atividade 3 B2','Atividade 1 B3','Atividade 2 B3','Atividade 3 B3','Atividade 1 B4','Atividade 2 B4','Atividade 3 B4'))\n",
    "    for x in range(len(sala)):\n",
    "        writer.writerow(str(x))"
   ]
  },
  {
   "cell_type": "code",
   "execution_count": 38,
   "id": "202bebc1",
   "metadata": {},
   "outputs": [],
   "source": [
    "colunas = ['Nome','Atividade 1 B1','Atividade 2 B1','Atividade 3 B1','Atividade 1 B2','Atividade 2 B2','Atividade 3 B2','Atividade 1 B3','Atividade 2 B3','Atividade 3 B3','Atividade 1 B4','Atividade 2 B4','Atividade 3 B4']"
   ]
  },
  {
   "cell_type": "code",
   "execution_count": 42,
   "id": "377916d8",
   "metadata": {},
   "outputs": [],
   "source": [
    "sala.append(colunas)"
   ]
  },
  {
   "cell_type": "code",
   "execution_count": 45,
   "id": "72090420",
   "metadata": {},
   "outputs": [
    {
     "data": {
      "text/plain": [
       "[['Daniel Vieira',\n",
       "  6,\n",
       "  5,\n",
       "  7,\n",
       "  5,\n",
       "  6,\n",
       "  8,\n",
       "  5,\n",
       "  6,\n",
       "  8,\n",
       "  5,\n",
       "  6,\n",
       "  7,\n",
       "  ('Nome',\n",
       "   'Atividade 1 B1',\n",
       "   'Atividade 2 B1',\n",
       "   'Atividade 3 B1',\n",
       "   'Atividade 1 B2',\n",
       "   'Atividade 2 B2',\n",
       "   'Atividade 3 B2',\n",
       "   'Atividade 1 B3',\n",
       "   'Atividade 2 B3',\n",
       "   'Atividade 3 B3',\n",
       "   'Atividade 1 B4',\n",
       "   'Atividade 2 B4',\n",
       "   'Atividade 3 B4')],\n",
       " ['João Paulo', 6, 7, 8, 4, 5, 7, 8, 9, 9, 7, 5, 7],\n",
       " ['Peter Parker', 9, 8, 9, 8, 9, 9, 9, 9, 8, 9, 9, 9],\n",
       " ['Michael Jackson', 6, 5, 4, 3, 4, 6, 5, 4, 2, 4, 6, 5],\n",
       " ['Julius César', 6, 5, 7, 3, 2, 1, 3, 3, 2, 1, 3, 4],\n",
       " ['Silvio Santos', 4, 3, 2, 6, 4, 7, 3, 3, 4, 3, 6, 3],\n",
       " ['Carmen Miranda', 4, 6, 3, 4, 6, 7, 8, 9, 7, 8, 9, 8],\n",
       " ['Ana Maria', 6, 7, 8, 3, 4, 5, 3, 5, 7, 4, 5, 4],\n",
       " ['Marcia', 7, 8, 5, 5, 6, 7, 8, 4, 3, 2, 4, 5],\n",
       " ['Judith', 3, 4, 5, 7, 6, 4, 2, 2, 3, 1, 4, 5],\n",
       " ['Nome',\n",
       "  'Atividade 1 B1',\n",
       "  'Atividade 2 B1',\n",
       "  'Atividade 3 B1',\n",
       "  'Atividade 1 B2',\n",
       "  'Atividade 2 B2',\n",
       "  'Atividade 3 B2',\n",
       "  'Atividade 1 B3',\n",
       "  'Atividade 2 B3',\n",
       "  'Atividade 3 B3',\n",
       "  'Atividade 1 B4',\n",
       "  'Atividade 2 B4',\n",
       "  'Atividade 3 B4']]"
      ]
     },
     "execution_count": 45,
     "metadata": {},
     "output_type": "execute_result"
    }
   ],
   "source": [
    "sala"
   ]
  },
  {
   "cell_type": "code",
   "execution_count": 15,
   "id": "e9d801b6",
   "metadata": {},
   "outputs": [],
   "source": [
    "tabsala = pd.DataFrame(sala, columns = ('Nome','Atividade 1 B1','Atividade 2 B1','Atividade 3 B1','Atividade 1 B2','Atividade 2 B2','Atividade 3 B2','Atividade 1 B3','Atividade 2 B3','Atividade 3 B3','Atividade 1 B4','Atividade 2 B4','Atividade 3 B4'))"
   ]
  },
  {
   "cell_type": "code",
   "execution_count": 16,
   "id": "65bdf0d5",
   "metadata": {},
   "outputs": [
    {
     "data": {
      "text/html": [
       "<div>\n",
       "<style scoped>\n",
       "    .dataframe tbody tr th:only-of-type {\n",
       "        vertical-align: middle;\n",
       "    }\n",
       "\n",
       "    .dataframe tbody tr th {\n",
       "        vertical-align: top;\n",
       "    }\n",
       "\n",
       "    .dataframe thead th {\n",
       "        text-align: right;\n",
       "    }\n",
       "</style>\n",
       "<table border=\"1\" class=\"dataframe\">\n",
       "  <thead>\n",
       "    <tr style=\"text-align: right;\">\n",
       "      <th></th>\n",
       "      <th>Nome</th>\n",
       "      <th>Atividade 1 B1</th>\n",
       "      <th>Atividade 2 B1</th>\n",
       "      <th>Atividade 3 B1</th>\n",
       "      <th>Atividade 1 B2</th>\n",
       "      <th>Atividade 2 B2</th>\n",
       "      <th>Atividade 3 B2</th>\n",
       "      <th>Atividade 1 B3</th>\n",
       "      <th>Atividade 2 B3</th>\n",
       "      <th>Atividade 3 B3</th>\n",
       "      <th>Atividade 1 B4</th>\n",
       "      <th>Atividade 2 B4</th>\n",
       "      <th>Atividade 3 B4</th>\n",
       "    </tr>\n",
       "  </thead>\n",
       "  <tbody>\n",
       "    <tr>\n",
       "      <th>0</th>\n",
       "      <td>Daniel Vieira</td>\n",
       "      <td>6</td>\n",
       "      <td>5</td>\n",
       "      <td>7</td>\n",
       "      <td>5</td>\n",
       "      <td>6</td>\n",
       "      <td>8</td>\n",
       "      <td>5</td>\n",
       "      <td>6</td>\n",
       "      <td>8</td>\n",
       "      <td>5</td>\n",
       "      <td>6</td>\n",
       "      <td>7</td>\n",
       "    </tr>\n",
       "    <tr>\n",
       "      <th>1</th>\n",
       "      <td>João Paulo</td>\n",
       "      <td>6</td>\n",
       "      <td>7</td>\n",
       "      <td>8</td>\n",
       "      <td>4</td>\n",
       "      <td>5</td>\n",
       "      <td>7</td>\n",
       "      <td>8</td>\n",
       "      <td>9</td>\n",
       "      <td>9</td>\n",
       "      <td>7</td>\n",
       "      <td>5</td>\n",
       "      <td>7</td>\n",
       "    </tr>\n",
       "    <tr>\n",
       "      <th>2</th>\n",
       "      <td>Peter Parker</td>\n",
       "      <td>9</td>\n",
       "      <td>8</td>\n",
       "      <td>9</td>\n",
       "      <td>8</td>\n",
       "      <td>9</td>\n",
       "      <td>9</td>\n",
       "      <td>9</td>\n",
       "      <td>9</td>\n",
       "      <td>8</td>\n",
       "      <td>9</td>\n",
       "      <td>9</td>\n",
       "      <td>9</td>\n",
       "    </tr>\n",
       "    <tr>\n",
       "      <th>3</th>\n",
       "      <td>Michael Jackson</td>\n",
       "      <td>6</td>\n",
       "      <td>5</td>\n",
       "      <td>4</td>\n",
       "      <td>3</td>\n",
       "      <td>4</td>\n",
       "      <td>6</td>\n",
       "      <td>5</td>\n",
       "      <td>4</td>\n",
       "      <td>2</td>\n",
       "      <td>4</td>\n",
       "      <td>6</td>\n",
       "      <td>5</td>\n",
       "    </tr>\n",
       "    <tr>\n",
       "      <th>4</th>\n",
       "      <td>Julius César</td>\n",
       "      <td>6</td>\n",
       "      <td>5</td>\n",
       "      <td>7</td>\n",
       "      <td>3</td>\n",
       "      <td>2</td>\n",
       "      <td>1</td>\n",
       "      <td>3</td>\n",
       "      <td>3</td>\n",
       "      <td>2</td>\n",
       "      <td>1</td>\n",
       "      <td>3</td>\n",
       "      <td>4</td>\n",
       "    </tr>\n",
       "    <tr>\n",
       "      <th>5</th>\n",
       "      <td>Silvio Santos</td>\n",
       "      <td>4</td>\n",
       "      <td>3</td>\n",
       "      <td>2</td>\n",
       "      <td>6</td>\n",
       "      <td>4</td>\n",
       "      <td>7</td>\n",
       "      <td>3</td>\n",
       "      <td>3</td>\n",
       "      <td>4</td>\n",
       "      <td>3</td>\n",
       "      <td>6</td>\n",
       "      <td>3</td>\n",
       "    </tr>\n",
       "    <tr>\n",
       "      <th>6</th>\n",
       "      <td>Carmen Miranda</td>\n",
       "      <td>4</td>\n",
       "      <td>6</td>\n",
       "      <td>3</td>\n",
       "      <td>4</td>\n",
       "      <td>6</td>\n",
       "      <td>7</td>\n",
       "      <td>8</td>\n",
       "      <td>9</td>\n",
       "      <td>7</td>\n",
       "      <td>8</td>\n",
       "      <td>9</td>\n",
       "      <td>8</td>\n",
       "    </tr>\n",
       "    <tr>\n",
       "      <th>7</th>\n",
       "      <td>Ana Maria</td>\n",
       "      <td>6</td>\n",
       "      <td>7</td>\n",
       "      <td>8</td>\n",
       "      <td>3</td>\n",
       "      <td>4</td>\n",
       "      <td>5</td>\n",
       "      <td>3</td>\n",
       "      <td>5</td>\n",
       "      <td>7</td>\n",
       "      <td>4</td>\n",
       "      <td>5</td>\n",
       "      <td>4</td>\n",
       "    </tr>\n",
       "    <tr>\n",
       "      <th>8</th>\n",
       "      <td>Marcia</td>\n",
       "      <td>7</td>\n",
       "      <td>8</td>\n",
       "      <td>5</td>\n",
       "      <td>5</td>\n",
       "      <td>6</td>\n",
       "      <td>7</td>\n",
       "      <td>8</td>\n",
       "      <td>4</td>\n",
       "      <td>3</td>\n",
       "      <td>2</td>\n",
       "      <td>4</td>\n",
       "      <td>5</td>\n",
       "    </tr>\n",
       "    <tr>\n",
       "      <th>9</th>\n",
       "      <td>Judith</td>\n",
       "      <td>3</td>\n",
       "      <td>4</td>\n",
       "      <td>5</td>\n",
       "      <td>7</td>\n",
       "      <td>6</td>\n",
       "      <td>4</td>\n",
       "      <td>2</td>\n",
       "      <td>2</td>\n",
       "      <td>3</td>\n",
       "      <td>1</td>\n",
       "      <td>4</td>\n",
       "      <td>5</td>\n",
       "    </tr>\n",
       "  </tbody>\n",
       "</table>\n",
       "</div>"
      ],
      "text/plain": [
       "              Nome  Atividade 1 B1  Atividade 2 B1  Atividade 3 B1  \\\n",
       "0    Daniel Vieira               6               5               7   \n",
       "1       João Paulo               6               7               8   \n",
       "2     Peter Parker               9               8               9   \n",
       "3  Michael Jackson               6               5               4   \n",
       "4     Julius César               6               5               7   \n",
       "5    Silvio Santos               4               3               2   \n",
       "6   Carmen Miranda               4               6               3   \n",
       "7        Ana Maria               6               7               8   \n",
       "8           Marcia               7               8               5   \n",
       "9           Judith               3               4               5   \n",
       "\n",
       "   Atividade 1 B2  Atividade 2 B2  Atividade 3 B2  Atividade 1 B3  \\\n",
       "0               5               6               8               5   \n",
       "1               4               5               7               8   \n",
       "2               8               9               9               9   \n",
       "3               3               4               6               5   \n",
       "4               3               2               1               3   \n",
       "5               6               4               7               3   \n",
       "6               4               6               7               8   \n",
       "7               3               4               5               3   \n",
       "8               5               6               7               8   \n",
       "9               7               6               4               2   \n",
       "\n",
       "   Atividade 2 B3  Atividade 3 B3  Atividade 1 B4  Atividade 2 B4  \\\n",
       "0               6               8               5               6   \n",
       "1               9               9               7               5   \n",
       "2               9               8               9               9   \n",
       "3               4               2               4               6   \n",
       "4               3               2               1               3   \n",
       "5               3               4               3               6   \n",
       "6               9               7               8               9   \n",
       "7               5               7               4               5   \n",
       "8               4               3               2               4   \n",
       "9               2               3               1               4   \n",
       "\n",
       "   Atividade 3 B4  \n",
       "0               7  \n",
       "1               7  \n",
       "2               9  \n",
       "3               5  \n",
       "4               4  \n",
       "5               3  \n",
       "6               8  \n",
       "7               4  \n",
       "8               5  \n",
       "9               5  "
      ]
     },
     "execution_count": 16,
     "metadata": {},
     "output_type": "execute_result"
    }
   ],
   "source": [
    "tabsala"
   ]
  },
  {
   "cell_type": "code",
   "execution_count": 17,
   "id": "9d8e0efd",
   "metadata": {},
   "outputs": [],
   "source": [
    "tabsala.to_csv(\"C:\\\\Users\\\\conta\\\\OneDrive\\\\Área de Trabalho\\\\Notas de Sala.csv\", encoding='utf-8')"
   ]
  },
  {
   "cell_type": "code",
   "execution_count": null,
   "id": "b1f8cfe3",
   "metadata": {},
   "outputs": [],
   "source": []
  }
 ],
 "metadata": {
  "kernelspec": {
   "display_name": "Python 3 (ipykernel)",
   "language": "python",
   "name": "python3"
  },
  "language_info": {
   "codemirror_mode": {
    "name": "ipython",
    "version": 3
   },
   "file_extension": ".py",
   "mimetype": "text/x-python",
   "name": "python",
   "nbconvert_exporter": "python",
   "pygments_lexer": "ipython3",
   "version": "3.9.7"
  }
 },
 "nbformat": 4,
 "nbformat_minor": 5
}
